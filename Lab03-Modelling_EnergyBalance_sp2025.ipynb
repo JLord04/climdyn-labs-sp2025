{
  "metadata": {
    "kernelspec": {
      "name": "python",
      "display_name": "Python (Pyodide)",
      "language": "python"
    },
    "language_info": {
      "codemirror_mode": {
        "name": "python",
        "version": 3
      },
      "file_extension": ".py",
      "mimetype": "text/x-python",
      "name": "python",
      "nbconvert_exporter": "python",
      "pygments_lexer": "ipython3",
      "version": "3.8"
    }
  },
  "nbformat_minor": 5,
  "nbformat": 4,
  "cells": [
    {
      "id": "610fdeb0-b484-4a9a-8fce-ee0ecd09be6e",
      "cell_type": "markdown",
      "source": "# Lab 3: Modelling radiation imbalance",
      "metadata": {}
    },
    {
      "id": "5547b0d5-0ab6-4650-b58e-e8419111eda1",
      "cell_type": "markdown",
      "source": "The goal of this lab is to use simple assumptions and a few equations, with help from Python, to reason about the Earth system.  We will be building our first **model**.  \n\nOur science questions are:\n- How does the Earth's global mean temperature adjust to a radiation imbalance?\n- By how much would the temperature change for a given change in the Earth system?  For example\n    - changes in greenhouse gas concentration\n    - changes in cloudiness\n- *Extension: What is the role of ocean heat capacity in climate change?*",
      "metadata": {}
    },
    {
      "id": "e5ffe53e-ebb7-46c9-9223-2231bc0a2524",
      "cell_type": "markdown",
      "source": "We will make use of the Trenberth and Fasullo (2012) summary plot of Earth's radiation budget.",
      "metadata": {}
    },
    {
      "id": "9731c7ff-bdb6-47cd-8104-633fe89a9895",
      "cell_type": "markdown",
      "source": "<img src=\"https://serc.carleton.edu/download/images/139508/energy_flow_diagram.webp\" width = '60%' align = 'center'> ",
      "metadata": {}
    },
    {
      "id": "d20149f9-7288-4290-b09a-4f67aca076be",
      "cell_type": "markdown",
      "source": "What are the components we see here?\n\nThe incoming solar radiation or **insolation**, $Q$, is what we receive from the Sun.\n\nThe **Absorbed Shortwave Radiation** or ASR is the part of the incoming sunlight that is *not* reflected back to space, i.e. that part that is absorbed somewhere within the Earth system.\n\nMathematically we write\n\n$$ \\text{ASR} = Q - F_{reflected} = (1-\\alpha) Q $$\n\nwhere $F_{\\text{reflected}}$ is the quantity of radiation reflected, and $\\alpha$ is the planetary **albedo**.",
      "metadata": {}
    },
    {
      "id": "e5501eef-620c-4112-8c4a-d899faac3bb2",
      "cell_type": "markdown",
      "source": "The **Outgoing Longwave Radiation** or OLR depends on Earth's surface temperature, according to the Stefan-Boltzmann law.\n\nIn class we will see that blackbody radiation was not a very good fit to the *observed* temperature due to the influence of our greenhouse atmosphere.  To account for the atmosphere, we introduced the  **transmissivity**  of the atmosphere, $\\tau$, a number less than 1 that represents the greenhouse effect of Earth's atmosphere.  \n\nWith the transmissivity included, the OLR is:\n\n$$ \\text{OLR} = \\tau \\sigma T_s^4 $$\n\nwhere $\\sigma$ is the Stefan-Boltzmann constant and $T_s$ is the surface temperature. ",
      "metadata": {}
    },
    {
      "id": "833c9bab-c501-48ef-af9f-779caadf1a84",
      "cell_type": "markdown",
      "source": "The Earth system is in **energy balance** when energy in = energy out, i.e. when\n\n$$ \\text{ASR} = \\text{OLR} $$",
      "metadata": {}
    },
    {
      "id": "87379a18-2530-4bca-a6a4-72df187a58df",
      "cell_type": "markdown",
      "source": "When this is not the case, there must be some net energy gained or lost by the system over time.\n\n$$\n\\begin{align} \n\\text{ASR} - \\text{OLR} &= \\text{flux in – flux out} \\\\\n    &= \\text{net energy flux in to system} \\\\\n    &= \\frac{dE}{dt} \\\\\n\\end{align}\n$$\n\nwhere $E$ is the **total heat content** (\"enthalpy\") of the Earth system.  \n\nThis is a general statement of the energy budget.  To make a *model*, we want to simulate changes in some measurable variable over time.  Here we will make a model for temperature change.",
      "metadata": {}
    },
    {
      "id": "ee9c4990-bd0d-4cf0-b6b8-eedda28a20e4",
      "cell_type": "markdown",
      "source": "### An energy balance **model**\n\nIf we now suppose that \n\n$$ E = C T_s $$\n\nwhere $E$ is the total heat content as above, $T_s$ is the global mean surface temperature, and $C$ is a constant – the **effective heat capacity** of the atmosphere- ocean column, in units of $\\text{J m}^{-2} \\text{K}^{-1}$.\n\nthen we can rewrite our energy budget equation as\n\n$$ C \\frac{dT}{dt} = \\text{ASR} - \\text{OLR} $$",
      "metadata": {}
    },
    {
      "id": "f39ae342-0b0d-4191-bdb0-e905630cd130",
      "cell_type": "markdown",
      "source": "***\n## Part 1: Demonstration and skills practice",
      "metadata": {}
    },
    {
      "id": "c6181451-55dd-4e22-9c1c-22805590aec1",
      "cell_type": "code",
      "source": "import numpy as np\n## a special instruction for the Jupyter notebook\n##   Display all plots inline in the notebook\n%matplotlib inline  \n##  import the plotting package\nimport matplotlib.pyplot as plt",
      "metadata": {
        "trusted": true
      },
      "outputs": [],
      "execution_count": null
    },
    {
      "id": "c67370ef-95f5-40e4-a781-2493a40e166e",
      "cell_type": "markdown",
      "source": "### 1. Fitting parameters to observations",
      "metadata": {}
    },
    {
      "id": "bfa67813-1465-48a6-8b17-284d06a234d9",
      "cell_type": "markdown",
      "source": "We have three parameters (adjustable values) in our energy budget equation above:\n- $C$, the effective heat capacity,\n- $\\tau$, the atmospheric transmissivity,\n- $\\alpha$, the planetary albedo.\n\nWe have two strategies to choose a value for these parameters.  For $C$, we will make a decent physical assumption to produce a value.  For $\\tau$ and $\\alpha$, we can use observations of related quantities to estimate the parameter value.",
      "metadata": {}
    },
    {
      "id": "8a10af28-3566-4f80-8412-18cf3fbeccdc",
      "cell_type": "markdown",
      "source": "#### Physical assumptions for $C$",
      "metadata": {}
    },
    {
      "id": "aeebf18e-2f76-4dcb-88d1-52b493d7e39c",
      "cell_type": "markdown",
      "source": "$C$ in the energy budget equation represents the effective heat capacity of the Earth system.  For now, because the oceans are a dominant control on global heat capacity, we are going to use a value of C equivalent to heating 100 meters of water:\n\n$$C = c_w \\rho_w H$$\n\nwhere \n\n$c_w = 4 \\times 10^3$ J kg$^{-1}$ $^\\circ$C$^{-1}$ is the specific heat of water,\n\n$\\rho_w = 10^3$ kg m$^{-3}$ is the density of water, and\n\n$H$ is an effective depth of water that is heated or cooled.",
      "metadata": {}
    },
    {
      "id": "fd2cd025-8639-4d92-a425-ee9eb5bfe8eb",
      "cell_type": "code",
      "source": "c_w = 4E3  ##  Specific heat of water in J/kg/K\nrho_w = 1E3  ##  Density of water in kg/m3\nH = 100.   ##  Depth of water in m\nC = c_w * rho_w * H   ##  Heat capacity of the model, in J/m2/K",
      "metadata": {},
      "outputs": [],
      "execution_count": null
    },
    {
      "id": "1d1445fd-d795-495f-a1de-bf63bd21ced7",
      "cell_type": "markdown",
      "source": "#### Estimating $\\tau$ and $\\alpha$",
      "metadata": {}
    },
    {
      "id": "34c52c56-0265-40b2-a735-fe92b157f8ec",
      "cell_type": "markdown",
      "source": "We introduced transmissivity, $\\tau$, into an equation based on the Stefan-Boltzmann law to account for the atmospheric greenhouse trapping some outgoing longwave radiation.\n\n$$ \\text{OLR} = \\tau \\sigma T_s^4 $$\n\nWe asserted $\\tau$ was small and positive, between 0 and 1.  What is a realistic value of $\\tau$?  We can deduce one from observations.",
      "metadata": {}
    },
    {
      "id": "9e7b4013-0790-4d62-bf87-f43043b8818d",
      "cell_type": "markdown",
      "source": "**Demonstration: Finding a value for $\\tau$ that fits the observations of $OLR$ and $T_s$.**\n\nLet's look at Trenberth and Fasullo for the observed outgoing longwave.  We know the global average surface temperature is about 15 Celsius, or 288 K.",
      "metadata": {}
    },
    {
      "id": "ef7326c4-bee2-4882-893f-37014dd2b7e3",
      "cell_type": "markdown",
      "source": "We can deduce the albedo in a similar way.\nFrom the Trenberth and Fasullo plot above, the area-averaged incoming solar radiation or **insolation** is 341.3 W m$^{-2}$.\n\nLet's denote this quantity by $Q$.",
      "metadata": {}
    },
    {
      "id": "4d7c94e6",
      "cell_type": "code",
      "source": "Q = 341.3  ## the insolation, in W/m2",
      "metadata": {},
      "outputs": [],
      "execution_count": null
    },
    {
      "id": "0a2370d4-8424-4904-bc7b-c7afa822bb9c",
      "cell_type": "markdown",
      "source": "#### *Exercise*:\nBased on the Trenberth and Fasullo plot, compute the global mean albedo.  Assign it to a variable named `alpha` when you compute it.",
      "metadata": {}
    },
    {
      "id": "e71d40a2-49da-4baa-b7eb-6dbbf991f254",
      "cell_type": "markdown",
      "source": "*Hint:* refer back to where we found the albedo in the equation for absorbed shortwave radiation:\n$$ \\text{ASR} = Q - F_{reflected} = (1-\\alpha) Q $$",
      "metadata": {}
    },
    {
      "id": "c1593d23-6e86-48c2-85de-74e62ae2bec5",
      "cell_type": "code",
      "source": "## your code here",
      "metadata": {},
      "outputs": [],
      "execution_count": null
    },
    {
      "id": "af07bc35-26ec-4881-bd38-a100e2dddd9d",
      "cell_type": "markdown",
      "source": "***\n### 2. Reusable functions for fun and profit",
      "metadata": {
        "tags": []
      }
    },
    {
      "id": "54310d02-4a46-4da1-8ff4-b60fd2c66a35",
      "cell_type": "markdown",
      "source": "Let's look again at the energy balance equation:\n$$ \\text{ASR} = \\text{OLR} $$\n\nBecause OLR depends on temperature, we can identify what surface temperature is required for energy balance (the **equilibrium temperature**).  Let's use the expressions for ASR and OLR we have already identified, replacing ASR on the left hand side and OLR on the right hand side:\n\n$$\n\\begin{align} \n\\text{ASR} &= \\text{OLR} \\\\\n(1-\\alpha) Q &= \\tau \\sigma T_s^4 \\\\\n\\frac{(1-\\alpha) Q}{\\tau \\sigma} &= T_s^4 \\\\\n\\end{align}\n$$\n\nAnd finally\n$$  T   = \\left(\\frac{(1-\\alpha) Q}{\\tau \\sigma} \\right)^{1/4} $$",
      "metadata": {}
    },
    {
      "id": "ca84f626-36f8-4e11-b15b-cdcaf87ff682",
      "cell_type": "markdown",
      "source": "#### *Exercise*: \nWrite a reusable function called `equilibrium_temperature` that computes the equilibrium temperature, given albedo and transmissivity as inputs.",
      "metadata": {}
    },
    {
      "id": "cbdff245-66b5-4537-a7e5-07da5aa91eb5",
      "cell_type": "code",
      "source": "## your code here",
      "metadata": {},
      "outputs": [],
      "execution_count": null
    },
    {
      "id": "f6aeae3b-56c5-473a-b08f-96115233b610",
      "cell_type": "markdown",
      "source": "Test your function using the values of albedo and transmissivity we found above.",
      "metadata": {}
    },
    {
      "id": "3f9628f4-94ef-40b7-a840-82ba4bac194a",
      "cell_type": "code",
      "source": "## your function applied here\nequilibrium_temperature(...) ## give the arguments with correct values, in order",
      "metadata": {},
      "outputs": [],
      "execution_count": null
    },
    {
      "id": "6fc09b9c-edf0-4ace-ad26-88cbbe96d3ab",
      "cell_type": "markdown",
      "source": "#### Default values\nWe can make our function easier to use by adding *default values* for the parameters.  These values give a baseline assumption that we can use in general, or choose to modify when we want to change the assumption.",
      "metadata": {
        "tags": []
      }
    },
    {
      "id": "81a171df-d843-4e97-a8df-a8a4e86cc8b0",
      "cell_type": "code",
      "source": "def StefanBoltzmann(T, sigma):\n    P = sigma * (T**4) ## Power per unit area, in W/m2\n    return P\n",
      "metadata": {},
      "outputs": [],
      "execution_count": null
    },
    {
      "id": "bde07319-7c76-4f9c-a232-1c596e4e1047",
      "cell_type": "markdown",
      "source": "#### *Exercise*: \nRevise your reusable function for equilibrium temperature to include default values for $\\sigma$ and for insolation.",
      "metadata": {}
    },
    {
      "id": "cbb94230-befe-402a-a531-a2df1af1b902",
      "cell_type": "code",
      "source": "## your code here",
      "metadata": {},
      "outputs": [],
      "execution_count": null
    },
    {
      "id": "437b4c85-d291-4754-a8f9-e22ef9335a0c",
      "cell_type": "markdown",
      "source": "***\n### 3. Timestepping",
      "metadata": {}
    },
    {
      "id": "00c05af9-5032-4567-a181-57c41c85aff9",
      "cell_type": "markdown",
      "source": "The energy balance equation contains a time derivative, $d/dt$.  The derivative is the *instantaneous rate of change*. It is defined as \n\n$$ \\frac{dT}{dt} = \\lim_{\\Delta t\\rightarrow 0}⁡ \\frac{\\Delta T}{\\Delta t}$$\n\n- On the computer there is no such thing as an instantaneous change. \n- We are always dealing with *discrete quantities*.\n- We approximate the derivative with $\\Delta T/ \\Delta t$. \n- The time interval $\\Delta t$ is called the **timestep**, the smallest unit of time captured in our model.  So long as we keep $\\Delta t$ \"small enough\", the approximation is valid and useful.\n\nSo, we can re-write the model from the intro as\n\n$$ C  \\frac{\\Delta T}{\\Delta t} \\approx \\text{ASR} - \\text{OLR}$$\n\nwhere $\\Delta T$ is the **change in temperature predicted by our model** over a short time interval $\\Delta t$.\n\nWe can immediately answer a question based on this equation!  Given a current temperature $T_1$ at time $t_1$, and today's observed energy imbalance, what is the temperature $T_2$ at a future time $t_2$?\n\nWe can write\n\n$$ \\Delta T = T_2-T_1 $$\n$$ \\Delta t = t_2-t_1 $$\n\nand so our model says\n\n$$ C  \\frac{T_2-T_1}{\\Delta t} = \\text{ASR} - \\text{OLR} $$\n\nWhich we can rearrange to **solve for the future temperature**:\n\n$$ T_2 = T_1 + \\frac{\\Delta t}{C} \\left( \\text{ASR} - \\text{OLR}(T_1) \\right)  $$",
      "metadata": {}
    },
    {
      "id": "de9840a8-3a38-4c61-ae4f-800d95046b18",
      "cell_type": "markdown",
      "source": "**Demonstration: Computing temperature one year in the future.**",
      "metadata": {}
    },
    {
      "id": "e8955118-7edc-4d7d-9d78-27feb516047f",
      "cell_type": "code",
      "source": "dt = ...   # one year expressed in seconds\nenergy_imbalance = 0.9 ## W/m2, the net energy imbalance we have computed before\n\n...",
      "metadata": {},
      "outputs": [],
      "execution_count": null
    },
    {
      "id": "dfc69de3-cee1-47e5-b331-ef22ed59a469",
      "cell_type": "code",
      "source": "def step_forward(T, alpha=0.3, tau=0.6):\n    T_next = ...\n    return T_next",
      "metadata": {},
      "outputs": [],
      "execution_count": null
    },
    {
      "id": "e5837064-89e9-46fd-80ec-91aefaab4927",
      "cell_type": "markdown",
      "source": "#### *Exercise*:\nAssume that the concentration of CO$_2$ in the atmosphere is increasing linearly in time at rate W:\n$$ \\frac{dCO_2}{dt} = W $$\n\n$$ \\frac{\\Delta CO_2}{\\Delta t} \\approx W $$ \n\n$$ (CO_2(t_1) - CO_2(t_0)) \\approx W (t_1-t_0) $$\n\nWrite a function to compute the CO$_2$ concentration at time t$_1$, using a timestep $dt$=1 year, and an initial CO2 concentration input to the function.",
      "metadata": {}
    },
    {
      "id": "abb87498-314d-4ba4-850a-28e0ac7c08bd",
      "cell_type": "code",
      "source": "## your code here",
      "metadata": {},
      "outputs": [],
      "execution_count": null
    },
    {
      "id": "a174185f-a1d1-47ff-a13f-dcf329c19fe6",
      "cell_type": "markdown",
      "source": "***\n### 4. For-loops",
      "metadata": {}
    },
    {
      "id": "f7871397-c2ca-4410-bc0e-f23582042b78",
      "cell_type": "markdown",
      "source": "Often we use a `for` loop to go through a list of items and perform some action.\n\nThese loops are generally constructed by:\n\n- Initializing one or more variables before the loop starts\n- Performing some computation on each item in the loop body, possibly changing the variables in the body of the loop\n- Looking at the resulting variables when the loop completes\n\nWe will use a list of numbers to demonstrate the concepts and construction of these loop patterns.",
      "metadata": {}
    },
    {
      "id": "f874d3c9-867d-42e0-94b6-dff7785c6c7d",
      "cell_type": "code",
      "source": "my_values = [5, 10, 15, 20]\n\nfor m in my_values:\n    print(m)",
      "metadata": {},
      "outputs": [],
      "execution_count": null
    },
    {
      "id": "aaa4a758-421d-4a36-9077-d24025e9d27c",
      "cell_type": "markdown",
      "source": "We can run the loop over a list of items, or we can set up a *counter* within a specified range.  This is very useful if we need to perform an action a set number of times, such as sampling an experiment 10 or 100 times.\n\nHere we will use `range(end_value)` to define the counting range.",
      "metadata": {}
    },
    {
      "id": "0f22f023-fb95-4012-8ed5-95a554c880a2",
      "cell_type": "code",
      "source": "for i in range(10):\n    print(i)",
      "metadata": {},
      "outputs": [],
      "execution_count": null
    },
    {
      "id": "45adf77e-9b07-429d-b1e8-b7cfb771e3e7",
      "cell_type": "markdown",
      "source": "When we are performing some action in the loop, we often want to store the result.  We can set up an empty list or array, then update it within the loop.\n",
      "metadata": {}
    },
    {
      "id": "37cdeb42-affb-41e4-9cd8-8ab424b0dfa6",
      "cell_type": "code",
      "source": "my_output = np.zeros(5)\n\nfor i in range(5):\n    value = i * 3\n    my_output[i] = value\n\nprint(my_output)",
      "metadata": {},
      "outputs": [],
      "execution_count": null
    },
    {
      "id": "ea56eca0-8f8a-4b1f-a75e-612406b43675",
      "cell_type": "markdown",
      "source": "#### *Exercise*:\nUse `np.zeros` to define an empty list 10 entries long.  Write a for-loop that goes through the list and stores values from 1 to 10 in order.  Print to show the result.",
      "metadata": {
        "tags": []
      }
    },
    {
      "id": "10839b23-4155-436c-a6f6-f1ad8e7876ea",
      "cell_type": "code",
      "source": "## your code here",
      "metadata": {},
      "outputs": [],
      "execution_count": null
    },
    {
      "id": "550719ab-f030-478a-be7f-e008e8a5bc89",
      "cell_type": "markdown",
      "source": "#### *Exercise*:\nComplete the following code to compute 10 future values of CO$_2$ concentration, assuming the same linear increase we used above.  You can assume the rate of increase $W=10$ ppm/yr.",
      "metadata": {}
    },
    {
      "id": "fd94aee2-43a6-4fa9-9bfc-ebbaac256d60",
      "cell_type": "code",
      "source": "numsteps = 10\n\nCO2_steps = np.zeros(numsteps+1)\nYears = np.zeros(numsteps+1)\n\nCO2_steps[0] = 400. \nfor n in range(numsteps):\n    Years[n+1] = n+1\n#    CO2_steps[n+1] = ...\n## uncomment and complete the line above\nprint(CO2_steps)",
      "metadata": {},
      "outputs": [],
      "execution_count": null
    },
    {
      "id": "91bb7f6f-3b9f-4bad-a67c-e3e3c8cc70c1",
      "cell_type": "markdown",
      "source": "***\n### 5. A basic plot",
      "metadata": {}
    },
    {
      "id": "41aecbcc-e909-4bd8-8f48-d799d3831770",
      "cell_type": "markdown",
      "source": "Last week we plotted `xarray` objects using a built-in `.plot()` command.  That will not work for the `numpy` objects we are working with today.  See what happens:",
      "metadata": {}
    },
    {
      "id": "d25f7001-91ab-49d0-85b9-854e6be6d5f4",
      "cell_type": "code",
      "source": "CO2_steps.plot()",
      "metadata": {},
      "outputs": [],
      "execution_count": null
    },
    {
      "id": "28eb82eb-f8ee-4347-a064-e3e0405f4f49",
      "cell_type": "markdown",
      "source": "Instead, we will use the more general plotting library [matplotlib](https://matplotlib.org/index.html).  Refer back to Lab 1 for some basic discussion of plotting with matplotlib.  The general steps are:\n- remember to import matplotlib\n- set up the axes\n- use `plt.plot(xvalues, yvalues)` to plot your data on the axes\n- label the axes using commands such as `plt.xlabel()`",
      "metadata": {}
    },
    {
      "id": "d0e2ab3b-ced9-4278-bde1-1a55e7e0c224",
      "cell_type": "code",
      "source": "import matplotlib.pyplot as plt\n\nx = np.linspace(0, 2)\n\nplt.plot(x, x, label='f(x) = x')\nplt.plot(x, x**2, label='f(x) = x$^{2}$')\nplt.xlabel('x')\nplt.ylabel('f(x)')\nplt.legend(loc='best');",
      "metadata": {},
      "outputs": [],
      "execution_count": null
    },
    {
      "id": "445e1f78-3649-4cc5-b224-552508265297",
      "cell_type": "markdown",
      "source": "Let's modify that code to plot our `CO2_steps` array instead.",
      "metadata": {}
    },
    {
      "id": "cbd682f1-731f-482d-94e8-aeac4d5b74d7",
      "cell_type": "code",
      "source": "",
      "metadata": {},
      "outputs": [],
      "execution_count": null
    },
    {
      "id": "4f1152da-9dc7-4d13-bcba-64609e02fbbf",
      "cell_type": "markdown",
      "source": "***\n## Part 2: Computing temperature change in response to energy imbalance\n\nSuppose that, due to changes in atmospheric composition and subsequent changes in cloudiness:\n\n- The longwave transmissitivity decreases to $\\tau = 0.57$\n\n- The planetary albedo increases to $\\alpha = 0.32$ \n\nThis is our first climate-change scenario!  We can use the tools we have developed here to analyse resulting changes in temperature.",
      "metadata": {}
    },
    {
      "id": "56c1f411-e4ee-44bd-8c9d-db372c46836a",
      "cell_type": "markdown",
      "source": "### Lab Procedure\n1. Use the `equilibrium_temperature` function you defined above to compute the equilibrium temperature for this new climate scenario.\n2. Define a reusable function called `ASR` that computes the absorbed shortwave radiation, and a function called `OLR` that computes the outgoing longwave radiation, for any values of albedo, transmissivity, solar flux, and temperature.  Define and use appropriate default values for the arguments.\n    - Compute the instantaneous ASR and OLR with these new values of albedo and transmissivity, and today's observed temperature.\n3. Modify the `step_forward` function we defined above to evolve temperature in time based on ASR and OLR imbalance (rather than a hard-coded `energy_imbalance`).\n4. Use a for-loop to step the temperature 50 years into the future.\n5. Address the science question by making a plot of temperature over the 50-year simulation.",
      "metadata": {}
    },
    {
      "id": "30f3bba7-323c-4b08-a892-06f964622fab",
      "cell_type": "code",
      "source": "## Add cells of code and markdown as needed here to complete the lab",
      "metadata": {},
      "outputs": [],
      "execution_count": null
    },
    {
      "id": "dd69e1d2-9c3e-4bfa-8218-1d4ccd228077",
      "cell_type": "code",
      "source": "",
      "metadata": {},
      "outputs": [],
      "execution_count": null
    },
    {
      "id": "bced7a71-b165-4de5-b4c4-e3f5ccbd82a5",
      "cell_type": "markdown",
      "source": "- *Optional extension: Examine the role of ocean heat capacity in the climate change model.*\n    - Modify the model (likely in your time stepping function) to double the heat capacity $C$.\n    - Run this new model to equilibrium and store the results in a new array\n    - Compare the model with your original result\n    - Interpret how the heat capacity affects climate change.",
      "metadata": {}
    },
    {
      "id": "40944217-9297-43a2-8b01-11678b352d4a",
      "cell_type": "markdown",
      "source": "***\n### Endnotes\n- [Here is a tutorial on default values.](https://www.pythontutorial.net/python-basics/python-default-parameters/)\n- Development: The content of this lab is based on Brian Rose's Climate Laboratory book ([landing page](https://brian-rose.github.io/ClimateLaboratoryBook/home.html); [original notebook](https://brian-rose.github.io/ClimateLaboratoryBook/courseware/zero-dim-ebm.html)).\n- This lab was last updated by Cam de Wet, 25 Feb 2025.",
      "metadata": {}
    },
    {
      "id": "fb37eafd-f65f-4943-8342-df9c47a38e9d",
      "cell_type": "code",
      "source": "",
      "metadata": {},
      "outputs": [],
      "execution_count": null
    }
  ]
}