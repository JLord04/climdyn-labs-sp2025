{
 "cells": [
  {
   "cell_type": "markdown",
   "id": "62f20480-3242-4c70-a513-60e0284c1fd6",
   "metadata": {},
   "source": [
    "# Lab 10: Exploring paleoclimate variability with a transient climate model"
   ]
  },
  {
   "cell_type": "markdown",
   "id": "c85d01dc-09ec-48d3-83aa-3fadbd719713",
   "metadata": {},
   "source": [
    "The goal of this lab is to build on the skills for working with climate data in netCDF format that we've been developing over the course of the semester. This time we will explore past climate variability using ice sheet reconstructions and output from a transient climate model - the TraCE-21ka simulation. \n",
    "\n",
    "TraCE-21ka output comes from a fully-coupled, non-accelerated atmosphere-ocean-sea ice-land surface CCSM3 simulation that simulates the global climate system since the Last Glacial Maximum (LGM) (22ka). More information about TraCE-21ka can be found [here](https://www.earthsystemgrid.org/project/trace.html). This [FAQ page](https://trace-21k.nelson.wisc.edu/faq.html) is also helpful.\n",
    "\n",
    "Our science questions are:\n",
    "- How did temperature differ at the LGM relative to the preindustrial and how did it change through tiime?\n",
    "- How have ice sheets changed since the LGM?\n",
    "- What factors explain the patterns of climate change over the last 22 ka?"
   ]
  },
  {
   "cell_type": "markdown",
   "id": "3aa41eb1-efcb-465d-9e89-7deca8165b1e",
   "metadata": {},
   "source": [
    "---\n",
    "## Part 1. Using data from multiple sources to explore climate variability since the LGM\n",
    "This lab will draw on several processing methods we have used before and multiple different sources of data. Let's start by accessing the datasets that we'll be using. All of the datasets are available in this Google Drive folder: https://drive.google.com/drive/folders/1dv663_F7lVw6C8hgET9xXiR5ayK2s3gx?usp=sharing\n",
    "\n",
    "Next we will read in global surface temperature data from the TraCE-21ka simulation."
   ]
  },
  {
   "cell_type": "markdown",
   "id": "4007cffb-e4f4-4fd4-9d78-4f1cde224f33",
   "metadata": {},
   "source": [
    "---\n",
    "### 1. Initial analysis - Global temperature from TraCE-21ka simulation"
   ]
  },
  {
   "cell_type": "code",
   "execution_count": null,
   "id": "407ba92d-7b19-40e8-8cd6-15174ffce18b",
   "metadata": {},
   "outputs": [],
   "source": [
    "# Import the tools we are going to need today:\n",
    "import matplotlib.pyplot as plt  # plotting library\n",
    "import pandas as pd\n",
    "import numpy as np  # numerical library\n",
    "import xarray as xr  # netCDF library\n",
    "#!pip install cartopy\n",
    "import cartopy  # Map projections library\n",
    "import cartopy.crs as ccrs  # Projections list\n",
    "!pip install h5netcdf\n",
    "import h5netcdf\n",
    "!pip install netcdf4\n",
    "import netCDF4\n",
    "# Some defaults:\n",
    "plt.rcParams['figure.figsize'] = (12, 5)  # Default plot size"
   ]
  },
  {
   "cell_type": "markdown",
   "id": "d6b53d4a-1d51-4c60-9053-08eaf5705567",
   "metadata": {},
   "source": [
    "We will be making more maps with matplotlib today. If you're curious, the list of color palettes available can be shown by running the cell below."
   ]
  },
  {
   "cell_type": "code",
   "execution_count": null,
   "id": "1e8d6ad9-4cbf-4957-bb62-74c4a9347f11",
   "metadata": {},
   "outputs": [],
   "source": [
    "from matplotlib import colormaps\n",
    "list(colormaps)"
   ]
  },
  {
   "cell_type": "markdown",
   "id": "b10c34bc-71c8-4b72-8651-933a4f0e72b9",
   "metadata": {},
   "source": [
    "Read the surface temperature data in and store the variable 'TS' from the netCDF as a new variable. Then inspect it. "
   ]
  },
  {
   "cell_type": "code",
   "execution_count": null,
   "id": "fc3d43e6-d07a-46d3-8252-aa4a73bbb3d3",
   "metadata": {},
   "outputs": [],
   "source": [
    "Model_TS = xr.open_dataset('TraCE-21K-II.ann.TS.nc')\n",
    "Model_TS = Model_TS.TS\n",
    "Model_TS"
   ]
  },
  {
   "cell_type": "markdown",
   "id": "2f850546-3e5e-4ea5-83b6-2ac6a2c5cbe6",
   "metadata": {},
   "source": [
    "We can use .head(n) and .tail(n) to inspect either the first n entries or last n entries a dataframe."
   ]
  },
  {
   "cell_type": "code",
   "execution_count": null,
   "id": "8b949832-2e79-4c72-a5f8-ceac24894ffb",
   "metadata": {},
   "outputs": [],
   "source": [
    "print(Model_TS.time.tail(10))"
   ]
  },
  {
   "cell_type": "markdown",
   "id": "f29ccc26-8810-4147-bbcd-583a376ff675",
   "metadata": {},
   "source": [
    "The temporal resolution of this model is decadal and the units are ka BP. This means we have output for every ten years from 22 ka BP to 0.04 ka BP. In the model, a time of 0 ka BP (or -9.900212e-07 ka BP specifically) corresponds to the year 1950. A time of -22 ka BP corresponds to 22,000 years ago. A time of 0.04 corresponds to 0.04 thousand years after 1950, which is 1990."
   ]
  },
  {
   "cell_type": "markdown",
   "id": "eca526d6-b50e-4c9f-8d9d-b13aa86c4929",
   "metadata": {},
   "source": [
    "Let's try plotting the data, starting with a time series of global average temperature throughout the entirety of the simulation."
   ]
  },
  {
   "cell_type": "code",
   "execution_count": null,
   "id": "a81c1ff0-32b3-4ccf-9e20-e0a0a7e25242",
   "metadata": {},
   "outputs": [],
   "source": [
    "ax = plt.axes()\n",
    "ax.plot(Model_TS.time, Model_TS.mean(dim = ['lat', 'lon']))\n",
    "ax.set_xlabel('Time (ka BP)'); ax.set_ylabel('Temperature (K)')"
   ]
  },
  {
   "cell_type": "markdown",
   "id": "60777a86-ac00-42fb-86ef-b7636bcc4415",
   "metadata": {},
   "source": [
    "Describe the trend that you see."
   ]
  },
  {
   "cell_type": "markdown",
   "id": "7968cf5f-7100-49df-aa53-923781139b37",
   "metadata": {},
   "source": []
  },
  {
   "cell_type": "markdown",
   "id": "4de7cb1a-e8a1-4211-915f-cf6dfa302f9a",
   "metadata": {},
   "source": [
    "Before we continue exploring the data from the climate model simulation, head [here](https://www.earthsystemgrid.org/project/trace.html) to learn more about TraCE-21ka. In a Markdown cell below, describe how this simulation was set up. What are the forcings and boundary conditions?"
   ]
  },
  {
   "cell_type": "markdown",
   "id": "484c34b2-b719-4b7c-95e1-75e1593df2a7",
   "metadata": {},
   "source": []
  },
  {
   "cell_type": "markdown",
   "id": "d5eec1d3-ae30-4a11-a690-36373f208c94",
   "metadata": {},
   "source": [
    "---\n",
    "### 2. Calculating and plotting anomalies "
   ]
  },
  {
   "cell_type": "markdown",
   "id": "88853c8a-a4df-4d3a-a8f3-ae911207149d",
   "metadata": {},
   "source": [
    "When working with model data, as with observational or reanalysis data, it is often helpful to calculate anomalies between different time intervals of the simulation. Let's calculate an anomaly for the LGM (-22 ka BP) relative to the preindustrial (PI). The preindustrial refers to the most recent decades before anthropogenic warming set in, usually considered ~1750 - 1850. This is a useful reference point for comparison with paleoclimate variability."
   ]
  },
  {
   "cell_type": "code",
   "execution_count": null,
   "id": "0edae2a1-a1fe-41b9-a1ae-cedf79250294",
   "metadata": {},
   "outputs": [],
   "source": [
    "PI_time_slices = np.arange(-0.19, -0.09, 0.01) # define the time slices for the PI (remember 0 ka BP is 1950)\n",
    "# can we tell what np.arange is doing for us here?\n",
    "\n",
    "# make a new variable with surface temperatures for for these time slices\n",
    "Model_TS_PI = Model_TS.sel(time = PI_time_slices, method = 'nearest')\n",
    "Model_TS_PI # inspect it"
   ]
  },
  {
   "cell_type": "markdown",
   "id": "c749ae0a-5914-4cc3-8508-d84f3d33d89e",
   "metadata": {},
   "source": [
    "Note that we can include 'method = 'nearest' when we use .sel to have Python select the times that are closest to those in our PI_time_slices array. This is handy because it means we don't have to match the times in the model dataframe exactly."
   ]
  },
  {
   "cell_type": "markdown",
   "id": "b27fa8cf-276b-4290-8af5-07ded60eeaca",
   "metadata": {},
   "source": [
    "Let's check to make sure that we have isolated the PI correctly. We don't want to include the anthropogenic warming that has occurred since 1850. The code cell below will plot a time series of the final 30 decades of the simulation and our new PI variable."
   ]
  },
  {
   "cell_type": "code",
   "execution_count": null,
   "id": "7ae08c27-e333-41d2-ad17-afcce1113e3f",
   "metadata": {},
   "outputs": [],
   "source": [
    "ax = plt.axes()\n",
    "ax.plot(Model_TS.time.tail(30),Model_TS.mean(dim = ['lat', 'lon']).tail(30), label = 'Last 300 years')\n",
    "ax.plot(Model_TS_PI.time,Model_TS_PI.mean(dim = ['lat', 'lon']), color = 'red', label = 'PI')\n",
    "ax.legend(loc = 'best')\n",
    "ax.set_xlabel('Time (ka BP)'); ax.set_ylabel('Temperature (K)')"
   ]
  },
  {
   "cell_type": "markdown",
   "id": "c73ee9cf-df6e-4999-b921-a81e5db8c55d",
   "metadata": {},
   "source": [
    "Now let's isolate the first 100 years of the simulation, corresponding the the LGM."
   ]
  },
  {
   "cell_type": "code",
   "execution_count": null,
   "id": "d3294e4b-2a64-4210-aed2-390809693c37",
   "metadata": {},
   "outputs": [],
   "source": [
    "LGM_time_slices = np.arange(-22, -21.901, 0.01)\n",
    "Model_TS_LGM_mean = Model_TS.sel(time = LGM_time_slices, method = 'nearest').mean(dim = 'time')"
   ]
  },
  {
   "cell_type": "markdown",
   "id": "64e3219f-21bb-4bc2-aa48-fe69f217257f",
   "metadata": {},
   "source": [
    "Check the dimensions of the dataframe that we produced. Is this what we need in order to make a map?"
   ]
  },
  {
   "cell_type": "markdown",
   "id": "4ce758b6-d5c8-4692-a6c6-25bec270389a",
   "metadata": {},
   "source": [
    "If so, let's start by making a map of global temperatures at the LGM."
   ]
  },
  {
   "cell_type": "code",
   "execution_count": null,
   "id": "48a5cfe5-e107-40d2-8b5b-4c9d0fbc9fd9",
   "metadata": {},
   "outputs": [],
   "source": [
    "ax = plt.axes(projection=ccrs.Robinson())\n",
    "Model_TS_LGM_mean.plot(ax=ax, transform=ccrs.PlateCarree(), vmin=210, vmax=300)\n",
    "ax.coastlines(); ax.gridlines(); ax.set_title('LGM')"
   ]
  },
  {
   "cell_type": "markdown",
   "id": "b78f97e2-fd82-4076-84fc-f960e6a48b74",
   "metadata": {},
   "source": [
    "#### *Exercise:* \n",
    "Now try calculating the global temperature anomaly between the LGM (22 ka BP) and the PI (1750 - 1850).\n",
    "\n",
    "Then make a similar map as above, but showing global temperatures during the PI. \n",
    "\n",
    "Then create a map showing the difference between the LGM and the PI. \n",
    "\n",
    "How much colder was the LGM on average relative to the PI?"
   ]
  },
  {
   "cell_type": "markdown",
   "id": "a78fbc38-543c-4ce8-8f5e-2da8192b6f4f",
   "metadata": {},
   "source": [
    "---\n",
    "### 3. Exploring ice sheet reconstructions\n",
    "\n",
    "The LGM was characterized by large ice sheets in the northern Hemisphere. Let's take a look at some reconstructions of these ice sheets through time. The netCDF file called 'reconstruction_a1_1_degree.nc' has variables for ice sheet thickness and sea level at 2,500 year intervals for the past 80,000 years. We are going to focus on 22.5 ka BP onward."
   ]
  },
  {
   "cell_type": "markdown",
   "id": "470a905e-993c-457e-9b61-2fbf85998004",
   "metadata": {},
   "source": [
    "Read in the ice reconstruction data and trim it down to just the last 22,500 years so that it spans the same range as our TraCE-21ka simulation."
   ]
  },
  {
   "cell_type": "code",
   "execution_count": null,
   "id": "18bfe842-a4e2-4cd6-9b2e-92d72b0a40ec",
   "metadata": {},
   "outputs": [],
   "source": [
    "Ice_recon = xr.open_dataset('reconstruction_a1_1_degree.nc', decode_times=False)\n",
    "Deglacial_time_slices = np.arange(-22500, 10, 2500)\n",
    "Ice_recon = Ice_recon.sel(time = Deglacial_time_slices, method = 'nearest')"
   ]
  },
  {
   "cell_type": "markdown",
   "id": "caab4ae6-b39e-42f9-9854-c5fe37b52c14",
   "metadata": {},
   "source": [
    "Try making a map the reconstructed ice thickness at the year -22,500 BP. You'll need to use .sel to pull out the spatial data for one specific time slice."
   ]
  },
  {
   "cell_type": "code",
   "execution_count": null,
   "id": "532993de-02d8-4a24-97fc-8e08f736788f",
   "metadata": {},
   "outputs": [],
   "source": [
    "# Your plotting script here"
   ]
  },
  {
   "cell_type": "markdown",
   "id": "3e455db3-0a2f-499e-a41e-408e5f28c29b",
   "metadata": {},
   "source": [
    "Now let's overlay the reconstructed ice thickness on our plot of global temperature at the LGM. To do this, we need to set every grid cell that doesn't have any ice in it to NaN so that it doesn't totally block our underlying temperature data."
   ]
  },
  {
   "cell_type": "code",
   "execution_count": null,
   "id": "62672f67-14b9-4177-9b70-7996251949d2",
   "metadata": {},
   "outputs": [],
   "source": [
    "Ice_recon_masked = Ice_recon.where(Ice_recon.ice_thickness > 0)"
   ]
  },
  {
   "cell_type": "markdown",
   "id": "c231283c-b49f-4a0c-9428-186ceb8c3c2f",
   "metadata": {},
   "source": [
    "Inspect Ice_recon_masked to see how it differs from Ice_recon."
   ]
  },
  {
   "cell_type": "markdown",
   "id": "1d38f0a8-c8b1-4beb-8d50-ecab3574c399",
   "metadata": {},
   "source": [
    "Now create a map with two layers: global temperature at the LGM and the thickness of the ice sheets at the LGM."
   ]
  },
  {
   "cell_type": "markdown",
   "id": "8d708609-d870-4b9a-a57c-c6660e6fd6c0",
   "metadata": {},
   "source": [
    "---\n",
    "### 4. Incorporating CO2 and insolation data\n",
    "\n",
    "Varying atmospheric CO2 levels and changes in the distribution of incoming solar radiation are key aspects of climate variability since the LGM. Read in the .csv files that hold insolation and CO2 data using pd.read_csv(file path). We'll use these for the Lab Procedure."
   ]
  },
  {
   "cell_type": "code",
   "execution_count": null,
   "id": "64bceae6-61f1-49e8-bb25-15519dd6aa81",
   "metadata": {},
   "outputs": [],
   "source": [
    "# Your code to read in the .csv files here."
   ]
  },
  {
   "cell_type": "markdown",
   "id": "749107bf-99f2-4319-bf76-42a490f6a8bd",
   "metadata": {},
   "source": [
    "Take a close look at the insolation data and try plotting it with the script below. I get you started with a plot of '90NJune'. Add each of the different columns to the plot. In a Markdown cell describe how far back in time this dataset goes? What is the difference between the different columns? If we're interested in the role insolation plays in the growth and retreat of northern hemisphere ice sheets, which column are we going to be most interested in? "
   ]
  },
  {
   "cell_type": "code",
   "execution_count": null,
   "id": "58939474-2c5c-43a7-b658-0883d371c3c6",
   "metadata": {},
   "outputs": [],
   "source": [
    "ax = plt.axes()\n",
    "ax.plot(insolation['Kiloyear before present'], insolation['90NJune'], label = '90NJune')\n",
    "ax.legend(loc = 'best')"
   ]
  },
  {
   "cell_type": "markdown",
   "id": "3824e7a3-b7b7-48e4-82ef-0c692725bc4a",
   "metadata": {},
   "source": []
  },
  {
   "cell_type": "markdown",
   "id": "5ad4218d-c259-4d74-9f40-17913bacb92f",
   "metadata": {},
   "source": [
    "---\n",
    "## Part 2: Lab Procedure\n",
    "\n",
    "1. Choose a new time span of at least 100 years from the model simulation. Calculate the mean temperature during this time and the anomaly between this time and the PI. \n",
    "    - Create a time series showing the full global average temperature record and highlight your new interval.\n",
    "    - Create a map of the temperature anomaly between your innterval and the PI and include the configuration of the ice sheets at the nearest point in time for which ice data is available.\n",
    " <br/><br/>\n",
    "2. Create a time series plot that shows modelled temperature variability through time for the northern hemisphere and for the southern hemisphere. How does temperature change through time differ between the two hemispheres?\n",
    " <br/><br/>\n",
    "3. Create one figure with multiple subplots that show:\n",
    "    - the insolation curve since the LGM\n",
    "    - atmsopheric CO2 concentration\n",
    "    - average sea level since the LGM\n",
    "    - the average thickness of ice on Earth since the LGM\n",
    "    - the average global temperature since the LGM\n",
    "<br/>\n",
    "Note that each different type of data has a different way of describing time. Consider how you can adjust the time components so that they all plot nicely on one graph.\n",
    " <br/><br/>\n",
    "4. At the end of the day, all climate models are simplified simulations of the climate system. How could we assess whether this simulation is a useful representation of changes to the climate system through time?"
   ]
  },
  {
   "cell_type": "markdown",
   "id": "0c8f4bed-decf-4782-9de1-062801bfda35",
   "metadata": {},
   "source": [
    "---\n",
    "## Endnotes\n",
    "- The TraCE-21ka data are available [here](https://trace-21k.nelson.wisc.edu/portal.html).\n",
    "- The ice sheet reconstruction is from [Gowan et al. 2021](https://www.nature.com/articles/s41467-021-21469-w).\n",
    "- Insolation data are available [here](https://www.ncei.noaa.gov/access/paleo-search/study/5776)\n",
    "- CO2 data are available [here](https://www.usap-dc.org/view/dataset/609108)\n",
    "- Last update: 23 Apr. 2025, Cam de Wet"
   ]
  },
  {
   "cell_type": "code",
   "execution_count": null,
   "id": "d1d42b19-043b-457a-bba5-4a017078a7ab",
   "metadata": {},
   "outputs": [],
   "source": []
  }
 ],
 "metadata": {
  "kernelspec": {
   "display_name": "Python 3 (ipykernel)",
   "language": "python",
   "name": "python3"
  },
  "language_info": {
   "codemirror_mode": {
    "name": "ipython",
    "version": 3
   },
   "file_extension": ".py",
   "mimetype": "text/x-python",
   "name": "python",
   "nbconvert_exporter": "python",
   "pygments_lexer": "ipython3",
   "version": "3.12.8"
  }
 },
 "nbformat": 4,
 "nbformat_minor": 5
}
