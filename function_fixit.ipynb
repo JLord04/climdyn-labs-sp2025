{
 "cells": [
  {
   "cell_type": "markdown",
   "id": "1270ed17-17e1-4f78-b6b7-e3a4e6d7d619",
   "metadata": {
    "tags": []
   },
   "source": [
    "## Fix the code!\n",
    "Below are some example code cells that could be improved.  Some won’t work at all; some will work but there is a better or cleaner way to do the task.  Work with a partner to suggest improvements to each.\n",
    "\n",
    "**This version will be our worked solutions.**"
   ]
  },
  {
   "cell_type": "markdown",
   "id": "eb119585-05c7-47a7-8baa-41aa3d6ae954",
   "metadata": {},
   "source": [
    "### 1. "
   ]
  },
  {
   "cell_type": "code",
   "execution_count": null,
   "id": "d60ef70d-0d52-41f2-9e1e-ea6193eb3416",
   "metadata": {},
   "outputs": [],
   "source": [
    "def Tmean = 19"
   ]
  },
  {
   "cell_type": "markdown",
   "id": "ebdd61e0-9b56-487c-99bc-11d3e6dfd749",
   "metadata": {},
   "source": [
    "**What does it seem like this code is attemptig to do? What could be improved?**"
   ]
  },
  {
   "cell_type": "markdown",
   "id": "87135bbf-51ee-4f53-9dbe-e2af32d3c0f2",
   "metadata": {},
   "source": [
    "### 2. "
   ]
  },
  {
   "cell_type": "code",
   "execution_count": null,
   "id": "7cad5aef-d656-4b41-b9bc-0f925e5ec85b",
   "metadata": {
    "tags": []
   },
   "outputs": [],
   "source": [
    "def Tdiff(tempA, tempB):\n",
    "    Tdiff = tempA - tempB\n",
    "    return Tdiff"
   ]
  },
  {
   "cell_type": "markdown",
   "id": "fbf74285-f31c-487c-91c2-437c5fefc813",
   "metadata": {},
   "source": [
    "**What could be improved?**"
   ]
  },
  {
   "cell_type": "markdown",
   "id": "7bea4f8c-753e-41e6-8c8a-5dea572cfc99",
   "metadata": {},
   "source": [
    "### 3."
   ]
  },
  {
   "cell_type": "code",
   "execution_count": null,
   "id": "64ac20a5-e641-43a2-8378-480f75aceef5",
   "metadata": {},
   "outputs": [],
   "source": [
    "def OLR(sigma, Ts):\n",
    "    olr = sigma * (Ts**4)"
   ]
  },
  {
   "cell_type": "markdown",
   "id": "d104f4d8-1c33-4a77-8e72-6f8dc11096e5",
   "metadata": {},
   "source": [
    "**What's wrong with the code?  What would you fix?**"
   ]
  },
  {
   "cell_type": "markdown",
   "id": "c601b091-5314-4e72-bafc-a5ae05f9ed01",
   "metadata": {},
   "source": [
    "### 4. "
   ]
  },
  {
   "cell_type": "code",
   "execution_count": null,
   "id": "ed434837-3ed1-43d8-b630-4a52e88ee004",
   "metadata": {
    "slideshow": {
     "slide_type": "-"
    }
   },
   "outputs": [],
   "source": [
    "epsilon = 0.586041150248834\n",
    "delta_epsilon = 0.02 * epsilon\n",
    "delta_epsilon"
   ]
  },
  {
   "cell_type": "code",
   "execution_count": null,
   "id": "04fde098-9170-424a-86c2-b26d354f4a80",
   "metadata": {
    "slideshow": {
     "slide_type": "slide"
    }
   },
   "outputs": [],
   "source": [
    "sigma = 5.67E-8\n",
    "Ts = 288. \n",
    "T0 = 275.\n",
    "T1 = 230."
   ]
  },
  {
   "cell_type": "code",
   "execution_count": null,
   "id": "07df6bc2-c14e-4548-ac3c-ca44ec7ea773",
   "metadata": {},
   "outputs": [],
   "source": [
    "def OLR_2layer(sigma=5.67E-8, epsilon=0.586, Tsurf=288, Tatm_low=275, Tatm_high=230):\n",
    "    olr_s = (1-epsilon)**2 *sigma * (Tsurf**4)\n",
    "    olr_0 = epsilon * (1-epsilon) * sigma * (Tatm_low**4)\n",
    "    olr_1 = epsilon * sigma * (Tatm_high**4)\n",
    "    return olr_s + olr_0 + olr_1"
   ]
  },
  {
   "cell_type": "code",
   "execution_count": null,
   "id": "65631844-9f2c-48d8-a0a5-ab9074eed68f",
   "metadata": {},
   "outputs": [],
   "source": [
    "OLR_2layer(delta_epsilon)"
   ]
  },
  {
   "cell_type": "code",
   "execution_count": null,
   "id": "8416baa5-b46b-48fe-8e18-fbf4a8af0e3a",
   "metadata": {},
   "outputs": [],
   "source": [
    "print(Tsurf)"
   ]
  },
  {
   "cell_type": "markdown",
   "id": "c1495ad4-972b-4674-bb63-5d2c5d9d7906",
   "metadata": {},
   "source": [
    "**What's wrong with the code?  How would you fix it? There are a bunch of issues here.**"
   ]
  }
 ],
 "metadata": {
  "kernelspec": {
   "display_name": "Python 3 (ipykernel)",
   "language": "python",
   "name": "python3"
  },
  "language_info": {
   "codemirror_mode": {
    "name": "ipython",
    "version": 3
   },
   "file_extension": ".py",
   "mimetype": "text/x-python",
   "name": "python",
   "nbconvert_exporter": "python",
   "pygments_lexer": "ipython3",
   "version": "3.12.8"
  }
 },
 "nbformat": 4,
 "nbformat_minor": 5
}
